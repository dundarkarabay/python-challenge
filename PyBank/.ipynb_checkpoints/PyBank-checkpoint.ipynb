{
 "cells": [
  {
   "cell_type": "code",
   "execution_count": 1,
   "metadata": {},
   "outputs": [
    {
     "name": "stdout",
     "output_type": "stream",
     "text": [
      "Total Months: 86\n",
      "Total: $38382578\n",
      "Average Change: $-2315.1176470588234\n",
      "Greatest Increase in Profit: Feb-2012 ($1926159)\n",
      "Greatest Decrease in Profit: Sep-2013 ($-2196167)\n"
     ]
    }
   ],
   "source": [
    "# Libraries\n",
    "import os\n",
    "import csv\n",
    "\n",
    "# Establishing a path to the file using os library\n",
    "csv_path = os.path.join(\".\", \"Resources\", \"budget_data.csv\")\n",
    "\n",
    "total_months = 0\n",
    "total = 0\n",
    "profits = []\n",
    "months = []\n",
    "\n",
    "# Opening the file using csv library. Notice that each row is now a list of two elements. \n",
    "with open(csv_path, \"r\", newline = \"\") as file_handler:\n",
    "    csv_reader = csv.reader(file_handler, delimiter = \",\")\n",
    "    header = next(csv_reader) # This allows us to name the first row as a list called \"header\" and skip it. \n",
    "    # print(header)\n",
    "    for row in csv_reader:\n",
    "        total_months += 1\n",
    "        total += int(row[1])\n",
    "        profits.append(row[1])\n",
    "        months.append(row[0])\n",
    "    print(f\"Total Months: {total_months}\")\n",
    "    print(f\"Total: ${total}\")\n",
    "\n",
    "length = len(profits)\n",
    "profits.append(\"\") # Added \"\" to the end of profits list so that I can use it as a condition in the if statement while calculating the change values.\n",
    "\n",
    "change_sum = 0\n",
    "greatest_increase = float('-inf') # initializing greatest_increase with a very low # so that first change will be assigned as the greatest_increase and everything will go from there\n",
    "greatest_decrease = float('inf') # initializing greatest_decrease with a very high # so that first change will be assigned as the greatest_decrease and everything will go from there\n",
    "\n",
    "for i in range(length):\n",
    "    if profits[i+1] != \"\":    \n",
    "        change = int(profits[i+1])-int(profits[i])\n",
    "        change_sum = change_sum + change\n",
    "        if change >= greatest_increase:\n",
    "            greatest_increase = change\n",
    "            greatest_increase_index = i+1 \n",
    "        elif change < greatest_decrease:\n",
    "            greatest_decrease = change\n",
    "            greatest_decrease_index = i+1\n",
    "\n",
    "average_change = change_sum / (length-1) # Notice that number of changes is one less than the number of profits\n",
    "print(f\"Average Change: ${average_change}\")\n",
    "            \n",
    "greatest_increase_month = months[greatest_increase_index]\n",
    "greatest_decrease_month = months[greatest_decrease_index]\n",
    "print(f\"Greatest Increase in Profit: {greatest_increase_month} (${greatest_increase})\")\n",
    "print(f\"Greatest Decrease in Profit: {greatest_decrease_month} (${greatest_decrease})\")"
   ]
  },
  {
   "cell_type": "code",
   "execution_count": null,
   "metadata": {},
   "outputs": [],
   "source": []
  }
 ],
 "metadata": {
  "kernelspec": {
   "display_name": "Conda [PythonData]",
   "language": "python",
   "name": "pythondata"
  },
  "language_info": {
   "codemirror_mode": {
    "name": "ipython",
    "version": 3
   },
   "file_extension": ".py",
   "mimetype": "text/x-python",
   "name": "python",
   "nbconvert_exporter": "python",
   "pygments_lexer": "ipython3",
   "version": "3.7.3"
  }
 },
 "nbformat": 4,
 "nbformat_minor": 2
}
